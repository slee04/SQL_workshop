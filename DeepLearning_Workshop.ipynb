{
  "nbformat": 4,
  "nbformat_minor": 0,
  "metadata": {
    "colab": {
      "name": "DeepLearning_Workshop.ipynb",
      "provenance": [],
      "collapsed_sections": [],
      "include_colab_link": true
    },
    "kernelspec": {
      "name": "python3",
      "display_name": "Python 3"
    },
    "accelerator": "GPU"
  },
  "cells": [
    {
      "cell_type": "markdown",
      "metadata": {
        "id": "view-in-github",
        "colab_type": "text"
      },
      "source": [
        "<a href=\"https://colab.research.google.com/github/slee04/SQL_workshop/blob/master/DeepLearning_Workshop.ipynb\" target=\"_parent\"><img src=\"https://colab.research.google.com/assets/colab-badge.svg\" alt=\"Open In Colab\"/></a>"
      ]
    },
    {
      "cell_type": "markdown",
      "metadata": {
        "id": "Uv3iJ0wgUId4",
        "colab_type": "text"
      },
      "source": [
        "# Installing Packages"
      ]
    },
    {
      "cell_type": "code",
      "metadata": {
        "id": "L6MWCEQnQnAC",
        "colab_type": "code",
        "colab": {}
      },
      "source": [
        "#!pip install tensorflow==2.0.0"
      ],
      "execution_count": 0,
      "outputs": []
    },
    {
      "cell_type": "code",
      "metadata": {
        "id": "nczqoXQ-Q-R8",
        "colab_type": "code",
        "colab": {}
      },
      "source": [
        "#!pip install keras\n",
        "#!pip install scikit-learn\n",
        "#!pip install numpy\n",
        "#!pip install pandas"
      ],
      "execution_count": 0,
      "outputs": []
    },
    {
      "cell_type": "code",
      "metadata": {
        "id": "57Bs0BIqR69z",
        "colab_type": "code",
        "colab": {}
      },
      "source": [
        "import pandas as pd\n",
        "import numpy as np\n",
        "import random"
      ],
      "execution_count": 0,
      "outputs": []
    },
    {
      "cell_type": "code",
      "metadata": {
        "id": "-7Svc5_VTAxI",
        "colab_type": "code",
        "colab": {}
      },
      "source": [
        "pd.__version__"
      ],
      "execution_count": 0,
      "outputs": []
    },
    {
      "cell_type": "markdown",
      "metadata": {
        "id": "n5_xMeUATJpa",
        "colab_type": "text"
      },
      "source": [
        "# Creating Random Data"
      ]
    },
    {
      "cell_type": "code",
      "metadata": {
        "id": "miP2LR3VTMiz",
        "colab_type": "code",
        "colab": {}
      },
      "source": [
        "random.seed(6)\n",
        "# data\n",
        "num_of_features = 5\n",
        "\n",
        "num_of_samples = 3000\n",
        "x = pd.DataFrame(np.random.randn(num_of_samples, num_of_features),\n",
        "                 columns=['cont_'+str(s) for s in list(range(0, num_of_features))])\n",
        "\n",
        "# labels\n",
        "y = pd.DataFrame(1*(x.sum(axis = 1) > 2.5), columns=['target1'])"
      ],
      "execution_count": 0,
      "outputs": []
    },
    {
      "cell_type": "markdown",
      "metadata": {
        "id": "jyN7SOviVmA2",
        "colab_type": "text"
      },
      "source": [
        "# Normalizing the data"
      ]
    },
    {
      "cell_type": "code",
      "metadata": {
        "id": "uNMmDzXpVqK3",
        "colab_type": "code",
        "colab": {
          "base_uri": "https://localhost:8080/",
          "height": 402
        },
        "outputId": "5eecc09f-86b0-4dac-cf76-b67eb5dee737"
      },
      "source": [
        "x = (x-x.min())/(x.max()-x.min())\n",
        "x"
      ],
      "execution_count": 20,
      "outputs": [
        {
          "output_type": "execute_result",
          "data": {
            "text/html": [
              "<div>\n",
              "<style scoped>\n",
              "    .dataframe tbody tr th:only-of-type {\n",
              "        vertical-align: middle;\n",
              "    }\n",
              "\n",
              "    .dataframe tbody tr th {\n",
              "        vertical-align: top;\n",
              "    }\n",
              "\n",
              "    .dataframe thead th {\n",
              "        text-align: right;\n",
              "    }\n",
              "</style>\n",
              "<table border=\"1\" class=\"dataframe\">\n",
              "  <thead>\n",
              "    <tr style=\"text-align: right;\">\n",
              "      <th></th>\n",
              "      <th>cont_0</th>\n",
              "      <th>cont_1</th>\n",
              "      <th>cont_2</th>\n",
              "      <th>cont_3</th>\n",
              "      <th>cont_4</th>\n",
              "    </tr>\n",
              "  </thead>\n",
              "  <tbody>\n",
              "    <tr>\n",
              "      <th>0</th>\n",
              "      <td>0.476387</td>\n",
              "      <td>0.613241</td>\n",
              "      <td>0.719182</td>\n",
              "      <td>0.321695</td>\n",
              "      <td>0.644063</td>\n",
              "    </tr>\n",
              "    <tr>\n",
              "      <th>1</th>\n",
              "      <td>0.442547</td>\n",
              "      <td>0.617408</td>\n",
              "      <td>0.589897</td>\n",
              "      <td>0.542201</td>\n",
              "      <td>0.551628</td>\n",
              "    </tr>\n",
              "    <tr>\n",
              "      <th>2</th>\n",
              "      <td>0.489162</td>\n",
              "      <td>0.446611</td>\n",
              "      <td>0.243150</td>\n",
              "      <td>0.588134</td>\n",
              "      <td>0.570958</td>\n",
              "    </tr>\n",
              "    <tr>\n",
              "      <th>3</th>\n",
              "      <td>0.545528</td>\n",
              "      <td>0.456239</td>\n",
              "      <td>0.707864</td>\n",
              "      <td>0.609273</td>\n",
              "      <td>0.432958</td>\n",
              "    </tr>\n",
              "    <tr>\n",
              "      <th>4</th>\n",
              "      <td>0.592830</td>\n",
              "      <td>0.588922</td>\n",
              "      <td>0.682919</td>\n",
              "      <td>0.440856</td>\n",
              "      <td>0.554973</td>\n",
              "    </tr>\n",
              "    <tr>\n",
              "      <th>...</th>\n",
              "      <td>...</td>\n",
              "      <td>...</td>\n",
              "      <td>...</td>\n",
              "      <td>...</td>\n",
              "      <td>...</td>\n",
              "    </tr>\n",
              "    <tr>\n",
              "      <th>2995</th>\n",
              "      <td>0.467400</td>\n",
              "      <td>0.525970</td>\n",
              "      <td>0.803308</td>\n",
              "      <td>0.398164</td>\n",
              "      <td>0.384511</td>\n",
              "    </tr>\n",
              "    <tr>\n",
              "      <th>2996</th>\n",
              "      <td>0.418555</td>\n",
              "      <td>0.603243</td>\n",
              "      <td>0.449417</td>\n",
              "      <td>0.784204</td>\n",
              "      <td>0.465480</td>\n",
              "    </tr>\n",
              "    <tr>\n",
              "      <th>2997</th>\n",
              "      <td>0.521748</td>\n",
              "      <td>0.426206</td>\n",
              "      <td>0.609192</td>\n",
              "      <td>0.499098</td>\n",
              "      <td>0.427439</td>\n",
              "    </tr>\n",
              "    <tr>\n",
              "      <th>2998</th>\n",
              "      <td>0.181830</td>\n",
              "      <td>0.308113</td>\n",
              "      <td>0.310202</td>\n",
              "      <td>0.461317</td>\n",
              "      <td>0.385041</td>\n",
              "    </tr>\n",
              "    <tr>\n",
              "      <th>2999</th>\n",
              "      <td>0.507788</td>\n",
              "      <td>0.677837</td>\n",
              "      <td>0.577558</td>\n",
              "      <td>0.468498</td>\n",
              "      <td>0.573614</td>\n",
              "    </tr>\n",
              "  </tbody>\n",
              "</table>\n",
              "<p>3000 rows × 5 columns</p>\n",
              "</div>"
            ],
            "text/plain": [
              "        cont_0    cont_1    cont_2    cont_3    cont_4\n",
              "0     0.476387  0.613241  0.719182  0.321695  0.644063\n",
              "1     0.442547  0.617408  0.589897  0.542201  0.551628\n",
              "2     0.489162  0.446611  0.243150  0.588134  0.570958\n",
              "3     0.545528  0.456239  0.707864  0.609273  0.432958\n",
              "4     0.592830  0.588922  0.682919  0.440856  0.554973\n",
              "...        ...       ...       ...       ...       ...\n",
              "2995  0.467400  0.525970  0.803308  0.398164  0.384511\n",
              "2996  0.418555  0.603243  0.449417  0.784204  0.465480\n",
              "2997  0.521748  0.426206  0.609192  0.499098  0.427439\n",
              "2998  0.181830  0.308113  0.310202  0.461317  0.385041\n",
              "2999  0.507788  0.677837  0.577558  0.468498  0.573614\n",
              "\n",
              "[3000 rows x 5 columns]"
            ]
          },
          "metadata": {
            "tags": []
          },
          "execution_count": 20
        }
      ]
    },
    {
      "cell_type": "markdown",
      "metadata": {
        "id": "B9YZCqxDY0ZU",
        "colab_type": "text"
      },
      "source": [
        "If you want to read a csv file from your machine,"
      ]
    },
    {
      "cell_type": "code",
      "metadata": {
        "id": "dQ1uqLjeYP4m",
        "colab_type": "code",
        "colab": {}
      },
      "source": [
        "from google.colab import files\n",
        "file = files.upload()\n",
        "d = pd.read_csv()"
      ],
      "execution_count": 0,
      "outputs": []
    },
    {
      "cell_type": "code",
      "metadata": {
        "id": "6kqPayehY8tI",
        "colab_type": "code",
        "colab": {
          "base_uri": "https://localhost:8080/",
          "height": 284
        },
        "outputId": "e54aaecb-e888-4da5-e0b5-2dfb0a4b6b49"
      },
      "source": [
        "x.describe()"
      ],
      "execution_count": 23,
      "outputs": [
        {
          "output_type": "execute_result",
          "data": {
            "text/html": [
              "<div>\n",
              "<style scoped>\n",
              "    .dataframe tbody tr th:only-of-type {\n",
              "        vertical-align: middle;\n",
              "    }\n",
              "\n",
              "    .dataframe tbody tr th {\n",
              "        vertical-align: top;\n",
              "    }\n",
              "\n",
              "    .dataframe thead th {\n",
              "        text-align: right;\n",
              "    }\n",
              "</style>\n",
              "<table border=\"1\" class=\"dataframe\">\n",
              "  <thead>\n",
              "    <tr style=\"text-align: right;\">\n",
              "      <th></th>\n",
              "      <th>cont_0</th>\n",
              "      <th>cont_1</th>\n",
              "      <th>cont_2</th>\n",
              "      <th>cont_3</th>\n",
              "      <th>cont_4</th>\n",
              "    </tr>\n",
              "  </thead>\n",
              "  <tbody>\n",
              "    <tr>\n",
              "      <th>count</th>\n",
              "      <td>3000.000000</td>\n",
              "      <td>3000.000000</td>\n",
              "      <td>3000.000000</td>\n",
              "      <td>3000.000000</td>\n",
              "      <td>3000.000000</td>\n",
              "    </tr>\n",
              "    <tr>\n",
              "      <th>mean</th>\n",
              "      <td>0.482854</td>\n",
              "      <td>0.497562</td>\n",
              "      <td>0.544765</td>\n",
              "      <td>0.472327</td>\n",
              "      <td>0.505526</td>\n",
              "    </tr>\n",
              "    <tr>\n",
              "      <th>std</th>\n",
              "      <td>0.140280</td>\n",
              "      <td>0.158058</td>\n",
              "      <td>0.143301</td>\n",
              "      <td>0.129160</td>\n",
              "      <td>0.134396</td>\n",
              "    </tr>\n",
              "    <tr>\n",
              "      <th>min</th>\n",
              "      <td>0.000000</td>\n",
              "      <td>0.000000</td>\n",
              "      <td>0.000000</td>\n",
              "      <td>0.000000</td>\n",
              "      <td>0.000000</td>\n",
              "    </tr>\n",
              "    <tr>\n",
              "      <th>25%</th>\n",
              "      <td>0.385476</td>\n",
              "      <td>0.392007</td>\n",
              "      <td>0.447561</td>\n",
              "      <td>0.387616</td>\n",
              "      <td>0.416392</td>\n",
              "    </tr>\n",
              "    <tr>\n",
              "      <th>50%</th>\n",
              "      <td>0.484414</td>\n",
              "      <td>0.496606</td>\n",
              "      <td>0.542022</td>\n",
              "      <td>0.472286</td>\n",
              "      <td>0.502288</td>\n",
              "    </tr>\n",
              "    <tr>\n",
              "      <th>75%</th>\n",
              "      <td>0.574929</td>\n",
              "      <td>0.602862</td>\n",
              "      <td>0.642862</td>\n",
              "      <td>0.555078</td>\n",
              "      <td>0.596230</td>\n",
              "    </tr>\n",
              "    <tr>\n",
              "      <th>max</th>\n",
              "      <td>1.000000</td>\n",
              "      <td>1.000000</td>\n",
              "      <td>1.000000</td>\n",
              "      <td>1.000000</td>\n",
              "      <td>1.000000</td>\n",
              "    </tr>\n",
              "  </tbody>\n",
              "</table>\n",
              "</div>"
            ],
            "text/plain": [
              "            cont_0       cont_1       cont_2       cont_3       cont_4\n",
              "count  3000.000000  3000.000000  3000.000000  3000.000000  3000.000000\n",
              "mean      0.482854     0.497562     0.544765     0.472327     0.505526\n",
              "std       0.140280     0.158058     0.143301     0.129160     0.134396\n",
              "min       0.000000     0.000000     0.000000     0.000000     0.000000\n",
              "25%       0.385476     0.392007     0.447561     0.387616     0.416392\n",
              "50%       0.484414     0.496606     0.542022     0.472286     0.502288\n",
              "75%       0.574929     0.602862     0.642862     0.555078     0.596230\n",
              "max       1.000000     1.000000     1.000000     1.000000     1.000000"
            ]
          },
          "metadata": {
            "tags": []
          },
          "execution_count": 23
        }
      ]
    },
    {
      "cell_type": "markdown",
      "metadata": {
        "id": "px5Xc0erZHd3",
        "colab_type": "text"
      },
      "source": [
        "# Splitting the Data into Training and Test Parts"
      ]
    },
    {
      "cell_type": "code",
      "metadata": {
        "id": "wz5AYMebZG2s",
        "colab_type": "code",
        "colab": {}
      },
      "source": [
        "from sklearn.model_selection import train_test_split\n",
        "x_train, x_test, y_train, y_test = train_test_split(x, y, test_size = 0.2, random_state=55)"
      ],
      "execution_count": 0,
      "outputs": []
    },
    {
      "cell_type": "markdown",
      "metadata": {
        "id": "9Re0I3sKaSoj",
        "colab_type": "text"
      },
      "source": [
        "# Creating The Deep Neural Network"
      ]
    },
    {
      "cell_type": "code",
      "metadata": {
        "id": "MrAMnK0-aXik",
        "colab_type": "code",
        "colab": {
          "base_uri": "https://localhost:8080/",
          "height": 34
        },
        "outputId": "1d315988-57c0-49eb-c46c-d384ec42b310"
      },
      "source": [
        "import tensorflow as tf\n",
        "print('Tensorflow version: ', tf.__version__)"
      ],
      "execution_count": 28,
      "outputs": [
        {
          "output_type": "stream",
          "text": [
            "Tensorflow version:  2.0.0\n"
          ],
          "name": "stdout"
        }
      ]
    },
    {
      "cell_type": "code",
      "metadata": {
        "id": "i0MWRSZgalRc",
        "colab_type": "code",
        "colab": {}
      },
      "source": [
        "# Model\n",
        "from tensorflow.keras.models import Model\n",
        "from tensorflow.keras.layers import Input, Dropout, Dense\n",
        "\n",
        "feat_num = len(x.columns)\n",
        "targets_num = len(y.columns)\n",
        "input = Input(shape=(feat_num,))\n",
        "\n",
        "xx = Dense(10, activation='relu', name = 'first_layer')(input)\n",
        "xx = Dropout(0.3)(xx)\n",
        "\n",
        "preds = Dense(targets_num, activation='sigmoid', name = 'output_layer')(xx)\n",
        "model = Model(inputs=input, outputs=preds)\n",
        "\n",
        "model.compile(optimizer='Adam', loss='binary_crossentropy', metrics=['accuracy'])"
      ],
      "execution_count": 0,
      "outputs": []
    },
    {
      "cell_type": "markdown",
      "metadata": {
        "id": "re0gRc9yfItJ",
        "colab_type": "text"
      },
      "source": [
        "# Architecture of the model"
      ]
    },
    {
      "cell_type": "code",
      "metadata": {
        "id": "P6DFqgRVfLmP",
        "colab_type": "code",
        "colab": {
          "base_uri": "https://localhost:8080/",
          "height": 286
        },
        "outputId": "a55e64d5-092b-4940-8bc7-2e2348d0311c"
      },
      "source": [
        "model.summary()"
      ],
      "execution_count": 43,
      "outputs": [
        {
          "output_type": "stream",
          "text": [
            "Model: \"model_1\"\n",
            "_________________________________________________________________\n",
            "Layer (type)                 Output Shape              Param #   \n",
            "=================================================================\n",
            "input_10 (InputLayer)        [(None, 5)]               0         \n",
            "_________________________________________________________________\n",
            "first_layer (Dense)          (None, 10)                60        \n",
            "_________________________________________________________________\n",
            "dropout_8 (Dropout)          (None, 10)                0         \n",
            "_________________________________________________________________\n",
            "output_layer (Dense)         (None, 1)                 11        \n",
            "=================================================================\n",
            "Total params: 71\n",
            "Trainable params: 71\n",
            "Non-trainable params: 0\n",
            "_________________________________________________________________\n"
          ],
          "name": "stdout"
        }
      ]
    },
    {
      "cell_type": "markdown",
      "metadata": {
        "id": "ZT-Y30WTfpZ0",
        "colab_type": "text"
      },
      "source": [
        "# Fitting the model"
      ]
    },
    {
      "cell_type": "code",
      "metadata": {
        "id": "aAczVP_7fpCz",
        "colab_type": "code",
        "colab": {}
      },
      "source": [
        "!pip install livelossplot"
      ],
      "execution_count": 0,
      "outputs": []
    },
    {
      "cell_type": "code",
      "metadata": {
        "id": "tD-VsG4gf3y6",
        "colab_type": "code",
        "colab": {
          "base_uri": "https://localhost:8080/",
          "height": 478
        },
        "outputId": "8e916187-11a4-43f8-a090-8e00474ecff4"
      },
      "source": [
        "from livelossplot.keras import PlotLossesCallback as p\n",
        "model.fit(x_train, y_train, batch_size=1, epochs =50,\n",
        "          validation_split = 0.3, callbacks=[p()])"
      ],
      "execution_count": 50,
      "outputs": [
        {
          "output_type": "display_data",
          "data": {
            "image/png": "[encoded data removed]",
            "text/plain": [
              "<Figure size 864x576 with 2 Axes>"
            ]
          },
          "metadata": {
            "tags": []
          }
        },
        {
          "output_type": "stream",
          "text": [
            "Log-loss (cost function):\n",
            "training   (min:    0.126, max:    0.493, cur:    0.126)\n",
            "validation (min:    0.061, max:    0.407, cur:    0.065)\n",
            "\n",
            "accuracy:\n",
            "training   (min:    0.832, max:    0.952, cur:    0.949)\n",
            "validation (min:    0.874, max:    0.997, cur:    0.993)\n",
            "\b\b\b\b\b\b\b\b\b\b\b\b\b\b\b\b\b\b\b\b\b\b\b\b\b\b\b\b\b\b\b\b\b\b\b\b\b\b\b\b\b\b\b\b\b\b\b\b\b\b\b\b\b\b\b\b\b\b\b\b\b\b\b\b\b\b\b\b\b\b\b\b\b\b\b\b\b\b\b\b\b\b\b\b\b\b\r1680/1680 [==============================] - 4s 2ms/sample - loss: 0.1258 - accuracy: 0.9488 - val_loss: 0.0647 - val_accuracy: 0.9931\n"
          ],
          "name": "stdout"
        },
        {
          "output_type": "execute_result",
          "data": {
            "text/plain": [
              "<tensorflow.python.keras.callbacks.History at 0x7f57574cd828>"
            ]
          },
          "metadata": {
            "tags": []
          },
          "execution_count": 50
        }
      ]
    },
    {
      "cell_type": "markdown",
      "metadata": {
        "id": "2eGZYh14jBWv",
        "colab_type": "text"
      },
      "source": [
        "#Evaluating the model on test data"
      ]
    },
    {
      "cell_type": "code",
      "metadata": {
        "id": "uxwaFpN5jA3q",
        "colab_type": "code",
        "colab": {
          "base_uri": "https://localhost:8080/",
          "height": 67
        },
        "outputId": "85c15f5d-85c9-4f55-fe35-da2b3b463797"
      },
      "source": [
        "model.evaluate(x_test, y_test) # Loss & accuracy"
      ],
      "execution_count": 51,
      "outputs": [
        {
          "output_type": "stream",
          "text": [
            "WARNING:tensorflow:Falling back from v2 loop because of error: Failed to find data adapter that can handle input: <class 'pandas.core.frame.DataFrame'>, <class 'NoneType'>\n",
            "600/600 [==============================] - 0s 38us/sample - loss: 0.0703 - accuracy: 0.9917\n"
          ],
          "name": "stdout"
        },
        {
          "output_type": "execute_result",
          "data": {
            "text/plain": [
              "[0.07026920005679131, 0.9916667]"
            ]
          },
          "metadata": {
            "tags": []
          },
          "execution_count": 51
        }
      ]
    },
    {
      "cell_type": "markdown",
      "metadata": {
        "id": "pD2SlpD_j04P",
        "colab_type": "text"
      },
      "source": [
        "# Prediction"
      ]
    },
    {
      "cell_type": "code",
      "metadata": {
        "id": "a2LX-RRBj27f",
        "colab_type": "code",
        "colab": {
          "base_uri": "https://localhost:8080/",
          "height": 34
        },
        "outputId": "33490bc0-89a9-4bd6-80c5-7f6713080660"
      },
      "source": [
        "y_pred = model.predict(x_test)"
      ],
      "execution_count": 52,
      "outputs": [
        {
          "output_type": "stream",
          "text": [
            "WARNING:tensorflow:Falling back from v2 loop because of error: Failed to find data adapter that can handle input: <class 'pandas.core.frame.DataFrame'>, <class 'NoneType'>\n"
          ],
          "name": "stdout"
        }
      ]
    },
    {
      "cell_type": "code",
      "metadata": {
        "id": "jHLywc19kGaz",
        "colab_type": "code",
        "colab": {
          "base_uri": "https://localhost:8080/",
          "height": 1000
        },
        "outputId": "ddcad393-d5a3-4d26-f88f-563699ccc460"
      },
      "source": [
        "y_pred"
      ],
      "execution_count": 53,
      "outputs": [
        {
          "output_type": "execute_result",
          "data": {
            "text/plain": [
              "array([[6.80366874e-01],\n",
              "       [2.75596976e-03],\n",
              "       [8.93544078e-01],\n",
              "       [2.94536352e-04],\n",
              "       [2.53319740e-06],\n",
              "       [3.63588333e-06],\n",
              "       [6.40977144e-01],\n",
              "       [0.00000000e+00],\n",
              "       [2.51553386e-01],\n",
              "       [9.20891762e-06],\n",
              "       [1.39423609e-02],\n",
              "       [1.90161169e-02],\n",
              "       [4.70703840e-03],\n",
              "       [2.22899884e-01],\n",
              "       [5.53727150e-05],\n",
              "       [1.49887800e-03],\n",
              "       [5.85284829e-03],\n",
              "       [2.86741853e-02],\n",
              "       [6.18632376e-01],\n",
              "       [2.10145354e-01],\n",
              "       [1.59144402e-05],\n",
              "       [6.25014305e-04],\n",
              "       [1.69605017e-04],\n",
              "       [3.87430191e-06],\n",
              "       [1.09043717e-03],\n",
              "       [2.91993141e-01],\n",
              "       [9.42349434e-05],\n",
              "       [9.74103808e-03],\n",
              "       [7.74860382e-07],\n",
              "       [8.30465734e-01],\n",
              "       [7.49528408e-04],\n",
              "       [1.78813934e-07],\n",
              "       [2.74389982e-04],\n",
              "       [5.21811843e-03],\n",
              "       [1.67879462e-03],\n",
              "       [6.52611256e-04],\n",
              "       [5.18709421e-04],\n",
              "       [2.75349855e-01],\n",
              "       [1.84774399e-06],\n",
              "       [9.53674316e-06],\n",
              "       [2.92479992e-04],\n",
              "       [2.38868594e-03],\n",
              "       [8.62777233e-05],\n",
              "       [1.45700276e-02],\n",
              "       [2.51676321e-01],\n",
              "       [1.72555447e-05],\n",
              "       [1.46031380e-06],\n",
              "       [8.06450844e-05],\n",
              "       [2.43513316e-01],\n",
              "       [4.94055152e-02],\n",
              "       [1.72766745e-02],\n",
              "       [4.52928543e-02],\n",
              "       [5.11536002e-03],\n",
              "       [1.97502971e-03],\n",
              "       [1.68591738e-04],\n",
              "       [3.01003456e-06],\n",
              "       [6.82570934e-01],\n",
              "       [6.49154782e-01],\n",
              "       [2.79527903e-03],\n",
              "       [5.12696505e-02],\n",
              "       [3.87430191e-07],\n",
              "       [1.24678016e-03],\n",
              "       [2.85953283e-03],\n",
              "       [1.90734863e-05],\n",
              "       [5.06639481e-07],\n",
              "       [3.71485949e-04],\n",
              "       [1.80214643e-04],\n",
              "       [1.23236179e-02],\n",
              "       [5.60252964e-02],\n",
              "       [9.54253316e-01],\n",
              "       [6.55212998e-02],\n",
              "       [2.06381977e-02],\n",
              "       [1.04150176e-03],\n",
              "       [7.00155735e-01],\n",
              "       [4.85491395e-01],\n",
              "       [2.89146006e-02],\n",
              "       [7.96025038e-01],\n",
              "       [8.19563866e-06],\n",
              "       [5.66244125e-07],\n",
              "       [1.23029649e-02],\n",
              "       [1.58840030e-01],\n",
              "       [5.24520874e-06],\n",
              "       [9.14265990e-01],\n",
              "       [1.53103471e-03],\n",
              "       [2.16811895e-04],\n",
              "       [1.16585493e-02],\n",
              "       [9.01126862e-03],\n",
              "       [4.04566824e-02],\n",
              "       [1.13397837e-04],\n",
              "       [2.22325325e-05],\n",
              "       [1.49998367e-02],\n",
              "       [3.76671612e-01],\n",
              "       [6.97111487e-02],\n",
              "       [4.78234887e-03],\n",
              "       [4.17232513e-07],\n",
              "       [6.02772832e-03],\n",
              "       [3.69876921e-02],\n",
              "       [9.82582569e-05],\n",
              "       [2.19643116e-05],\n",
              "       [1.15653872e-02],\n",
              "       [3.61279547e-02],\n",
              "       [2.14287341e-02],\n",
              "       [1.01625919e-04],\n",
              "       [8.00162554e-03],\n",
              "       [3.69250774e-05],\n",
              "       [4.00400162e-03],\n",
              "       [1.21593475e-05],\n",
              "       [2.18510628e-04],\n",
              "       [3.15904617e-06],\n",
              "       [1.16318464e-03],\n",
              "       [4.63217050e-01],\n",
              "       [2.92965174e-02],\n",
              "       [2.27093697e-05],\n",
              "       [3.49488854e-03],\n",
              "       [2.92325020e-03],\n",
              "       [1.22204423e-03],\n",
              "       [5.60344160e-02],\n",
              "       [2.40305096e-01],\n",
              "       [5.31703234e-04],\n",
              "       [6.31272793e-04],\n",
              "       [6.16908073e-06],\n",
              "       [7.44852424e-03],\n",
              "       [5.82337379e-05],\n",
              "       [3.04681987e-01],\n",
              "       [1.55276060e-03],\n",
              "       [2.43960917e-02],\n",
              "       [1.24078095e-01],\n",
              "       [4.87715006e-04],\n",
              "       [9.44307446e-03],\n",
              "       [8.48638892e-01],\n",
              "       [8.06933641e-03],\n",
              "       [0.00000000e+00],\n",
              "       [1.10498667e-02],\n",
              "       [1.02718174e-01],\n",
              "       [7.44551420e-04],\n",
              "       [5.15300751e-01],\n",
              "       [1.95682049e-04],\n",
              "       [1.06345832e-01],\n",
              "       [3.60608101e-06],\n",
              "       [7.95337856e-02],\n",
              "       [1.13844872e-05],\n",
              "       [6.71029091e-04],\n",
              "       [5.78165054e-06],\n",
              "       [9.48215604e-01],\n",
              "       [3.96969914e-03],\n",
              "       [3.33189964e-05],\n",
              "       [3.61293554e-04],\n",
              "       [1.25122070e-03],\n",
              "       [5.08836806e-02],\n",
              "       [9.75398421e-01],\n",
              "       [1.65246129e-02],\n",
              "       [2.42412090e-03],\n",
              "       [1.08209252e-03],\n",
              "       [6.87559843e-01],\n",
              "       [4.50713485e-01],\n",
              "       [3.70619714e-01],\n",
              "       [2.02878416e-02],\n",
              "       [1.93133950e-02],\n",
              "       [3.54200900e-02],\n",
              "       [4.79251146e-04],\n",
              "       [8.73916209e-01],\n",
              "       [5.90840757e-01],\n",
              "       [1.43269002e-01],\n",
              "       [6.56843185e-05],\n",
              "       [2.24179029e-03],\n",
              "       [1.24332309e-03],\n",
              "       [3.69578600e-04],\n",
              "       [5.62757254e-04],\n",
              "       [1.99615955e-04],\n",
              "       [4.44650650e-05],\n",
              "       [4.33921814e-05],\n",
              "       [1.29938126e-05],\n",
              "       [9.23961401e-04],\n",
              "       [1.62184238e-04],\n",
              "       [2.65240669e-06],\n",
              "       [3.19406390e-03],\n",
              "       [2.98619270e-05],\n",
              "       [9.48941708e-03],\n",
              "       [2.01618671e-03],\n",
              "       [1.78813934e-06],\n",
              "       [5.76552749e-01],\n",
              "       [8.63969326e-05],\n",
              "       [6.65754080e-04],\n",
              "       [8.49446654e-03],\n",
              "       [2.98023224e-08],\n",
              "       [2.98023224e-06],\n",
              "       [3.05771828e-05],\n",
              "       [1.59054995e-04],\n",
              "       [1.53759718e-01],\n",
              "       [1.42049193e-02],\n",
              "       [5.83499670e-04],\n",
              "       [7.70092010e-05],\n",
              "       [4.62442636e-04],\n",
              "       [2.91426182e-02],\n",
              "       [7.41481781e-05],\n",
              "       [3.25143337e-05],\n",
              "       [4.24015522e-03],\n",
              "       [1.51995152e-01],\n",
              "       [3.07427227e-01],\n",
              "       [4.11478221e-01],\n",
              "       [7.40121007e-01],\n",
              "       [3.84671926e-01],\n",
              "       [1.02638900e-02],\n",
              "       [3.20157409e-03],\n",
              "       [1.84962153e-03],\n",
              "       [6.19888306e-06],\n",
              "       [5.66244125e-07],\n",
              "       [5.78165054e-06],\n",
              "       [2.33456492e-03],\n",
              "       [1.37090683e-05],\n",
              "       [7.55247474e-03],\n",
              "       [8.06888819e-01],\n",
              "       [2.39858031e-03],\n",
              "       [1.66893005e-06],\n",
              "       [1.22189522e-05],\n",
              "       [1.49607658e-05],\n",
              "       [1.70111656e-04],\n",
              "       [7.43955374e-04],\n",
              "       [1.03786588e-03],\n",
              "       [2.82227993e-05],\n",
              "       [4.53829765e-04],\n",
              "       [1.10626221e-04],\n",
              "       [4.88758087e-06],\n",
              "       [1.99821889e-02],\n",
              "       [1.20673478e-02],\n",
              "       [6.28928304e-01],\n",
              "       [6.60488009e-02],\n",
              "       [2.76696384e-02],\n",
              "       [4.92595881e-01],\n",
              "       [7.30092227e-02],\n",
              "       [7.12215900e-04],\n",
              "       [1.12056732e-05],\n",
              "       [1.07288361e-06],\n",
              "       [6.89914763e-01],\n",
              "       [2.82585621e-04],\n",
              "       [6.70254230e-05],\n",
              "       [3.65704298e-04],\n",
              "       [2.32790709e-02],\n",
              "       [1.11199617e-02],\n",
              "       [6.55651093e-06],\n",
              "       [7.15255737e-05],\n",
              "       [2.44395733e-02],\n",
              "       [3.33786011e-06],\n",
              "       [4.55975533e-06],\n",
              "       [3.11464071e-04],\n",
              "       [4.58037853e-03],\n",
              "       [1.73652172e-03],\n",
              "       [1.01029873e-05],\n",
              "       [3.06024283e-01],\n",
              "       [3.41027975e-04],\n",
              "       [1.30667388e-02],\n",
              "       [3.27825546e-06],\n",
              "       [8.78721476e-04],\n",
              "       [7.23788142e-03],\n",
              "       [5.28016686e-03],\n",
              "       [2.15750933e-03],\n",
              "       [5.37633896e-05],\n",
              "       [4.17232513e-07],\n",
              "       [1.18622184e-03],\n",
              "       [1.00415945e-03],\n",
              "       [6.40527070e-01],\n",
              "       [7.96011090e-03],\n",
              "       [2.90989876e-04],\n",
              "       [2.34454870e-04],\n",
              "       [2.34776735e-03],\n",
              "       [5.90381026e-03],\n",
              "       [4.14928913e-01],\n",
              "       [4.76300716e-04],\n",
              "       [1.70488477e-01],\n",
              "       [1.05781555e-02],\n",
              "       [3.18884850e-06],\n",
              "       [2.74045467e-02],\n",
              "       [7.12990761e-04],\n",
              "       [6.27750158e-01],\n",
              "       [1.19654208e-01],\n",
              "       [3.73086870e-01],\n",
              "       [6.92367554e-04],\n",
              "       [6.40574694e-02],\n",
              "       [1.64330006e-03],\n",
              "       [6.48796558e-05],\n",
              "       [1.60159349e-01],\n",
              "       [2.35199928e-03],\n",
              "       [2.62612104e-03],\n",
              "       [4.94648814e-02],\n",
              "       [7.33286142e-04],\n",
              "       [1.19209290e-07],\n",
              "       [4.81193066e-02],\n",
              "       [3.71932983e-05],\n",
              "       [4.17351723e-04],\n",
              "       [4.34371114e-01],\n",
              "       [4.13179398e-04],\n",
              "       [2.10210145e-01],\n",
              "       [3.42872739e-03],\n",
              "       [2.17325687e-02],\n",
              "       [1.18696392e-02],\n",
              "       [7.80224800e-05],\n",
              "       [1.66893005e-06],\n",
              "       [1.17063522e-03],\n",
              "       [7.55927682e-01],\n",
              "       [1.36884451e-02],\n",
              "       [7.01562226e-01],\n",
              "       [2.63762474e-03],\n",
              "       [1.62228942e-03],\n",
              "       [8.80809844e-01],\n",
              "       [8.39617848e-03],\n",
              "       [3.73311847e-01],\n",
              "       [4.76381183e-03],\n",
              "       [1.58306956e-03],\n",
              "       [1.14440918e-05],\n",
              "       [1.18523836e-04],\n",
              "       [3.15666199e-03],\n",
              "       [6.88513756e-01],\n",
              "       [1.40279740e-01],\n",
              "       [2.19142437e-03],\n",
              "       [3.55195999e-03],\n",
              "       [3.77517939e-03],\n",
              "       [5.10486960e-03],\n",
              "       [8.70725811e-02],\n",
              "       [4.27635342e-01],\n",
              "       [1.39183998e-02],\n",
              "       [7.01546669e-05],\n",
              "       [3.42398882e-04],\n",
              "       [2.46197879e-02],\n",
              "       [1.06275082e-04],\n",
              "       [6.25607371e-03],\n",
              "       [2.47552097e-02],\n",
              "       [4.77250487e-01],\n",
              "       [7.30249286e-03],\n",
              "       [2.10344791e-04],\n",
              "       [5.96330762e-02],\n",
              "       [2.42363811e-02],\n",
              "       [5.99920750e-05],\n",
              "       [9.23871994e-07],\n",
              "       [4.81554866e-03],\n",
              "       [6.62207603e-04],\n",
              "       [2.83965468e-03],\n",
              "       [6.10679388e-04],\n",
              "       [7.87705183e-04],\n",
              "       [2.30550766e-04],\n",
              "       [1.07169151e-02],\n",
              "       [1.68490946e-01],\n",
              "       [1.60932541e-06],\n",
              "       [7.63891757e-01],\n",
              "       [1.42611861e-02],\n",
              "       [1.96079016e-02],\n",
              "       [1.16229057e-05],\n",
              "       [3.40044498e-05],\n",
              "       [2.16096640e-04],\n",
              "       [1.24126673e-04],\n",
              "       [0.00000000e+00],\n",
              "       [1.62646770e-02],\n",
              "       [8.69505048e-01],\n",
              "       [9.95218754e-04],\n",
              "       [2.05248594e-04],\n",
              "       [1.78813934e-07],\n",
              "       [9.62076187e-02],\n",
              "       [5.77486753e-01],\n",
              "       [9.14275646e-04],\n",
              "       [2.07298994e-03],\n",
              "       [2.56747007e-03],\n",
              "       [5.69224358e-06],\n",
              "       [6.38408601e-01],\n",
              "       [1.75833702e-06],\n",
              "       [6.55263662e-04],\n",
              "       [3.88592482e-04],\n",
              "       [3.32847506e-01],\n",
              "       [1.16974115e-04],\n",
              "       [2.66224146e-03],\n",
              "       [1.06990337e-05],\n",
              "       [8.80685568e-01],\n",
              "       [7.86425769e-02],\n",
              "       [1.40637159e-04],\n",
              "       [3.84927988e-01],\n",
              "       [4.88221645e-04],\n",
              "       [7.14659691e-05],\n",
              "       [1.02121830e-02],\n",
              "       [5.10094404e-01],\n",
              "       [3.72830331e-02],\n",
              "       [7.45058060e-06],\n",
              "       [2.85863876e-04],\n",
              "       [1.12953782e-03],\n",
              "       [3.05414200e-04],\n",
              "       [3.18333179e-01],\n",
              "       [7.51674175e-04],\n",
              "       [6.51180744e-04],\n",
              "       [1.20401382e-05],\n",
              "       [6.63514078e-01],\n",
              "       [1.84774399e-06],\n",
              "       [2.02953815e-04],\n",
              "       [3.14116478e-05],\n",
              "       [1.31130219e-06],\n",
              "       [9.21103358e-03],\n",
              "       [9.61291790e-03],\n",
              "       [6.34710491e-02],\n",
              "       [4.48545814e-03],\n",
              "       [4.97400761e-05],\n",
              "       [1.77651644e-04],\n",
              "       [3.15254033e-02],\n",
              "       [6.57824278e-01],\n",
              "       [2.02772021e-03],\n",
              "       [4.51594591e-04],\n",
              "       [2.78413296e-04],\n",
              "       [4.04117107e-02],\n",
              "       [9.31095243e-01],\n",
              "       [2.99680233e-03],\n",
              "       [5.66244125e-07],\n",
              "       [8.66796017e-01],\n",
              "       [8.37600291e-01],\n",
              "       [7.87079215e-01],\n",
              "       [5.65997362e-02],\n",
              "       [7.30156898e-06],\n",
              "       [7.82489777e-04],\n",
              "       [1.61102414e-03],\n",
              "       [1.79483831e-01],\n",
              "       [6.81459904e-04],\n",
              "       [6.38858974e-01],\n",
              "       [5.56758046e-03],\n",
              "       [7.41126418e-01],\n",
              "       [1.28110945e-02],\n",
              "       [5.98297656e-01],\n",
              "       [1.10268593e-06],\n",
              "       [1.49458647e-04],\n",
              "       [1.47432089e-04],\n",
              "       [1.84633732e-02],\n",
              "       [5.99145889e-04],\n",
              "       [3.04499865e-02],\n",
              "       [5.71670532e-01],\n",
              "       [3.18884850e-06],\n",
              "       [6.41263366e-01],\n",
              "       [4.20033932e-04],\n",
              "       [1.16616488e-04],\n",
              "       [1.72436237e-04],\n",
              "       [2.32458115e-06],\n",
              "       [2.41985947e-01],\n",
              "       [1.40070915e-06],\n",
              "       [5.95652580e-01],\n",
              "       [5.12301922e-05],\n",
              "       [2.11596489e-06],\n",
              "       [7.50471652e-02],\n",
              "       [2.68220901e-07],\n",
              "       [2.98023224e-06],\n",
              "       [3.62032652e-03],\n",
              "       [4.58955765e-06],\n",
              "       [3.19182575e-02],\n",
              "       [3.27095091e-02],\n",
              "       [1.69034898e-02],\n",
              "       [6.32796347e-01],\n",
              "       [1.98364258e-04],\n",
              "       [1.19585395e-02],\n",
              "       [1.38801336e-03],\n",
              "       [4.64916229e-06],\n",
              "       [8.17596912e-04],\n",
              "       [9.18384433e-01],\n",
              "       [6.10582948e-01],\n",
              "       [1.78813934e-07],\n",
              "       [1.47819519e-05],\n",
              "       [1.49011612e-07],\n",
              "       [1.87754631e-06],\n",
              "       [9.49800014e-05],\n",
              "       [4.78243828e-02],\n",
              "       [4.78521585e-02],\n",
              "       [2.44333148e-01],\n",
              "       [5.88288903e-03],\n",
              "       [3.63051891e-04],\n",
              "       [4.92244959e-04],\n",
              "       [8.16759467e-03],\n",
              "       [9.33498144e-04],\n",
              "       [3.16560268e-04],\n",
              "       [2.82414258e-02],\n",
              "       [2.70184875e-03],\n",
              "       [4.29439247e-02],\n",
              "       [2.32588947e-02],\n",
              "       [6.69479370e-04],\n",
              "       [4.24087048e-05],\n",
              "       [5.94508648e-03],\n",
              "       [5.06639481e-07],\n",
              "       [8.64952803e-04],\n",
              "       [3.39291394e-02],\n",
              "       [3.18109989e-04],\n",
              "       [1.00925565e-03],\n",
              "       [3.05175781e-04],\n",
              "       [8.76158476e-04],\n",
              "       [3.92365754e-02],\n",
              "       [4.04423177e-02],\n",
              "       [1.22830272e-03],\n",
              "       [5.02313077e-02],\n",
              "       [6.51836395e-04],\n",
              "       [1.25169754e-06],\n",
              "       [5.26398420e-04],\n",
              "       [6.79175854e-02],\n",
              "       [2.45392323e-02],\n",
              "       [6.44296408e-03],\n",
              "       [1.30742788e-04],\n",
              "       [9.00352299e-02],\n",
              "       [2.84314156e-04],\n",
              "       [7.45058060e-07],\n",
              "       [4.02683616e-02],\n",
              "       [5.66244125e-07],\n",
              "       [7.28547573e-04],\n",
              "       [1.93715096e-06],\n",
              "       [2.77472734e-02],\n",
              "       [4.85956669e-03],\n",
              "       [1.74549222e-03],\n",
              "       [1.01597607e-02],\n",
              "       [4.61706519e-03],\n",
              "       [9.35196877e-05],\n",
              "       [1.93788528e-01],\n",
              "       [1.05717778e-03],\n",
              "       [7.21037388e-04],\n",
              "       [7.08585978e-03],\n",
              "       [5.60139000e-01],\n",
              "       [3.58492136e-04],\n",
              "       [1.10220909e-03],\n",
              "       [2.40802765e-05],\n",
              "       [1.50266290e-03],\n",
              "       [2.01288760e-02],\n",
              "       [1.23608112e-03],\n",
              "       [2.41375566e-02],\n",
              "       [3.06755304e-02],\n",
              "       [8.91954601e-02],\n",
              "       [2.79021263e-02],\n",
              "       [5.72024286e-02],\n",
              "       [5.37037849e-05],\n",
              "       [1.49011612e-07],\n",
              "       [2.38418579e-07],\n",
              "       [2.58437991e-02],\n",
              "       [8.94069672e-08],\n",
              "       [1.22755766e-04],\n",
              "       [2.34246254e-05],\n",
              "       [5.64157963e-05],\n",
              "       [2.10151076e-03],\n",
              "       [1.18285418e-04],\n",
              "       [3.07187527e-01],\n",
              "       [2.92459130e-03],\n",
              "       [6.22868538e-06],\n",
              "       [5.06005764e-01],\n",
              "       [8.31097364e-04],\n",
              "       [1.48403645e-02],\n",
              "       [2.38195062e-03],\n",
              "       [7.51018524e-06],\n",
              "       [5.60889244e-02],\n",
              "       [4.11272049e-06],\n",
              "       [7.96914101e-05],\n",
              "       [3.17985713e-02],\n",
              "       [5.21361828e-04],\n",
              "       [4.33921814e-04],\n",
              "       [1.33007765e-04],\n",
              "       [5.72204590e-06],\n",
              "       [3.48344445e-03],\n",
              "       [1.31849319e-01],\n",
              "       [5.06639481e-07],\n",
              "       [1.05840266e-02],\n",
              "       [1.38100684e-02],\n",
              "       [6.47228122e-01],\n",
              "       [1.04317069e-03],\n",
              "       [8.01682472e-05],\n",
              "       [5.11525750e-01],\n",
              "       [4.34293747e-02],\n",
              "       [1.98841095e-04],\n",
              "       [3.77008319e-02],\n",
              "       [5.15994430e-03],\n",
              "       [4.16361570e-01],\n",
              "       [7.14153647e-02],\n",
              "       [9.21785831e-04],\n",
              "       [6.85453415e-07],\n",
              "       [5.03571332e-02],\n",
              "       [2.83566117e-03],\n",
              "       [3.34725320e-01],\n",
              "       [1.29405260e-02],\n",
              "       [3.14056873e-04],\n",
              "       [2.12490559e-05],\n",
              "       [9.94205475e-05],\n",
              "       [2.86102295e-06],\n",
              "       [1.47074461e-04],\n",
              "       [1.74766779e-03],\n",
              "       [3.08918357e-02],\n",
              "       [1.23088062e-02],\n",
              "       [2.69234180e-04],\n",
              "       [4.30331230e-02],\n",
              "       [2.28285789e-05],\n",
              "       [1.49875879e-04],\n",
              "       [3.03989649e-03],\n",
              "       [1.49413913e-01],\n",
              "       [1.19656324e-04],\n",
              "       [7.97831714e-01],\n",
              "       [2.08616257e-07],\n",
              "       [3.91960144e-04],\n",
              "       [1.41852409e-01],\n",
              "       [1.08480453e-05],\n",
              "       [3.87430191e-07],\n",
              "       [1.45435333e-05],\n",
              "       [9.22068954e-03],\n",
              "       [3.25259566e-03],\n",
              "       [1.57120228e-02],\n",
              "       [5.80158234e-02],\n",
              "       [2.33173370e-04],\n",
              "       [9.68807518e-01],\n",
              "       [3.82599533e-02],\n",
              "       [2.80323386e-01],\n",
              "       [7.58126497e-01]], dtype=float32)"
            ]
          },
          "metadata": {
            "tags": []
          },
          "execution_count": 53
        }
      ]
    }
  ]
}